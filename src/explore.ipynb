{
    "cells": [
        {
            "cell_type": "markdown",
            "metadata": {},
            "source": [
                "# Explore here"
            ]
        },
        {
            "cell_type": "code",
            "execution_count": null,
            "metadata": {},
            "outputs": [],
            "source": [
                "import os\n",
                "import pandas as pd\n",
                "import matplotlib.pyplot as plt\n",
                "from dotenv import load_dotenv\n",
                "\n",
                "# load the .env file variables\n",
                "load_dotenv()\n",
                "\n",
                "client_id = os.environ.get(\"CLIENT_ID\")\n",
                "client_secret = os.environ.get(\"CLIENT_SECRET\")"
            ]
        },
        {
            "cell_type": "code",
            "execution_count": 12,
            "metadata": {},
            "outputs": [],
            "source": [
                "import spotipy\n",
                "from spotipy.oauth2 import SpotifyClientCredentials\n",
                "\n",
                "auth_manager = SpotifyClientCredentials(client_id=client_id, client_secret=client_secret)\n",
                "spotify = spotipy.Spotify(auth_manager=auth_manager)"
            ]
        },
        {
            "cell_type": "code",
            "execution_count": 13,
            "metadata": {},
            "outputs": [
                {
                    "data": {
                        "text/plain": [
                            "{'external_urls': {'spotify': 'https://open.spotify.com/artist/0kyQwKHCZnKE7kTXkxXjrB'},\n",
                            " 'followers': {'href': None, 'total': 154470},\n",
                            " 'genres': ['ska',\n",
                            "  'latin alternative',\n",
                            "  'latin rock',\n",
                            "  'rock en español',\n",
                            "  'mexican ska'],\n",
                            " 'href': 'https://api.spotify.com/v1/artists/0kyQwKHCZnKE7kTXkxXjrB',\n",
                            " 'id': '0kyQwKHCZnKE7kTXkxXjrB',\n",
                            " 'images': [{'url': 'https://i.scdn.co/image/ab6761610000e5eb856a4c8434bc80e2518a1091',\n",
                            "   'height': 640,\n",
                            "   'width': 640},\n",
                            "  {'url': 'https://i.scdn.co/image/ab67616100005174856a4c8434bc80e2518a1091',\n",
                            "   'height': 320,\n",
                            "   'width': 320},\n",
                            "  {'url': 'https://i.scdn.co/image/ab6761610000f178856a4c8434bc80e2518a1091',\n",
                            "   'height': 160,\n",
                            "   'width': 160}],\n",
                            " 'name': 'Desorden Público',\n",
                            " 'popularity': 42,\n",
                            " 'type': 'artist',\n",
                            " 'uri': 'spotify:artist:0kyQwKHCZnKE7kTXkxXjrB'}"
                        ]
                    },
                    "execution_count": 13,
                    "metadata": {},
                    "output_type": "execute_result"
                }
            ],
            "source": [
                "artist_id = \"0kyQwKHCZnKE7kTXkxXjrB\"#Artist ID 0kyQwKHCZnKE7kTXkxXjrB Desorden Publico\n",
                "artista = spotify.artist(artist_id)\n",
                "artista"
            ]
        },
        {
            "cell_type": "code",
            "execution_count": 14,
            "metadata": {},
            "outputs": [
                {
                    "data": {
                        "text/plain": [
                            "'Allá Cayó'"
                        ]
                    },
                    "metadata": {},
                    "output_type": "display_data"
                },
                {
                    "data": {
                        "text/plain": [
                            "'Tiembla - En Vivo'"
                        ]
                    },
                    "metadata": {},
                    "output_type": "display_data"
                },
                {
                    "data": {
                        "text/plain": [
                            "'Los Que Se Quedan, los Que Se Van'"
                        ]
                    },
                    "metadata": {},
                    "output_type": "display_data"
                },
                {
                    "data": {
                        "text/plain": [
                            "'Tiemble'"
                        ]
                    },
                    "metadata": {},
                    "output_type": "display_data"
                },
                {
                    "data": {
                        "text/plain": [
                            "'La Danza de los Esqueletos'"
                        ]
                    },
                    "metadata": {},
                    "output_type": "display_data"
                },
                {
                    "data": {
                        "text/plain": [
                            "'Combate'"
                        ]
                    },
                    "metadata": {},
                    "output_type": "display_data"
                },
                {
                    "data": {
                        "text/plain": [
                            "'Tiembla De Carupano al Callao'"
                        ]
                    },
                    "metadata": {},
                    "output_type": "display_data"
                },
                {
                    "data": {
                        "text/plain": [
                            "'Latex - En Vivo'"
                        ]
                    },
                    "metadata": {},
                    "output_type": "display_data"
                },
                {
                    "data": {
                        "text/plain": [
                            "'Gorilón'"
                        ]
                    },
                    "metadata": {},
                    "output_type": "display_data"
                },
                {
                    "data": {
                        "text/plain": [
                            "'Politicos Paraliticos'"
                        ]
                    },
                    "metadata": {},
                    "output_type": "display_data"
                }
            ],
            "source": [
                "top_10 = spotify.artist_top_tracks(artist_id)\n",
                "for x in top_10[\"tracks\"] :\n",
                "    display(x[\"name\"])"
            ]
        },
        {
            "cell_type": "code",
            "execution_count": 16,
            "metadata": {},
            "outputs": [
                {
                    "data": {
                        "text/html": [
                            "<div>\n",
                            "<style scoped>\n",
                            "    .dataframe tbody tr th:only-of-type {\n",
                            "        vertical-align: middle;\n",
                            "    }\n",
                            "\n",
                            "    .dataframe tbody tr th {\n",
                            "        vertical-align: top;\n",
                            "    }\n",
                            "\n",
                            "    .dataframe thead th {\n",
                            "        text-align: right;\n",
                            "    }\n",
                            "</style>\n",
                            "<table border=\"1\" class=\"dataframe\">\n",
                            "  <thead>\n",
                            "    <tr style=\"text-align: right;\">\n",
                            "      <th></th>\n",
                            "      <th>album</th>\n",
                            "      <th>artists</th>\n",
                            "      <th>available_markets</th>\n",
                            "      <th>disc_number</th>\n",
                            "      <th>duration_ms</th>\n",
                            "      <th>explicit</th>\n",
                            "      <th>external_ids</th>\n",
                            "      <th>external_urls</th>\n",
                            "      <th>href</th>\n",
                            "      <th>id</th>\n",
                            "      <th>is_local</th>\n",
                            "      <th>is_playable</th>\n",
                            "      <th>name</th>\n",
                            "      <th>popularity</th>\n",
                            "      <th>preview_url</th>\n",
                            "      <th>track_number</th>\n",
                            "      <th>type</th>\n",
                            "      <th>uri</th>\n",
                            "    </tr>\n",
                            "  </thead>\n",
                            "  <tbody>\n",
                            "    <tr>\n",
                            "      <th>0</th>\n",
                            "      <td>{'album_type': 'album', 'artists': [{'external...</td>\n",
                            "      <td>[{'external_urls': {'spotify': 'https://open.s...</td>\n",
                            "      <td>[AR, AU, AT, BE, BO, BR, BG, CA, CL, CO, CR, C...</td>\n",
                            "      <td>1</td>\n",
                            "      <td>252280</td>\n",
                            "      <td>False</td>\n",
                            "      <td>{'isrc': 'VES019700043'}</td>\n",
                            "      <td>{'spotify': 'https://open.spotify.com/track/6F...</td>\n",
                            "      <td>https://api.spotify.com/v1/tracks/6F7uqfzvcdl5...</td>\n",
                            "      <td>6F7uqfzvcdl5Y42mJBVc9V</td>\n",
                            "      <td>False</td>\n",
                            "      <td>True</td>\n",
                            "      <td>Allá Cayó</td>\n",
                            "      <td>41</td>\n",
                            "      <td>None</td>\n",
                            "      <td>2</td>\n",
                            "      <td>track</td>\n",
                            "      <td>spotify:track:6F7uqfzvcdl5Y42mJBVc9V</td>\n",
                            "    </tr>\n",
                            "    <tr>\n",
                            "      <th>1</th>\n",
                            "      <td>{'album_type': 'album', 'artists': [{'external...</td>\n",
                            "      <td>[{'external_urls': {'spotify': 'https://open.s...</td>\n",
                            "      <td>[AR, AU, AT, BE, BO, BR, BG, CA, CL, CO, CR, C...</td>\n",
                            "      <td>1</td>\n",
                            "      <td>295693</td>\n",
                            "      <td>False</td>\n",
                            "      <td>{'isrc': 'GBMA21833403'}</td>\n",
                            "      <td>{'spotify': 'https://open.spotify.com/track/6t...</td>\n",
                            "      <td>https://api.spotify.com/v1/tracks/6tJn0JYD6QKE...</td>\n",
                            "      <td>6tJn0JYD6QKE6eXbh4829b</td>\n",
                            "      <td>False</td>\n",
                            "      <td>True</td>\n",
                            "      <td>Tiembla - En Vivo</td>\n",
                            "      <td>38</td>\n",
                            "      <td>None</td>\n",
                            "      <td>15</td>\n",
                            "      <td>track</td>\n",
                            "      <td>spotify:track:6tJn0JYD6QKE6eXbh4829b</td>\n",
                            "    </tr>\n",
                            "    <tr>\n",
                            "      <th>2</th>\n",
                            "      <td>{'album_type': 'album', 'artists': [{'external...</td>\n",
                            "      <td>[{'external_urls': {'spotify': 'https://open.s...</td>\n",
                            "      <td>[AR, AU, AT, BE, BO, BR, BG, CA, CL, CO, CR, C...</td>\n",
                            "      <td>1</td>\n",
                            "      <td>208066</td>\n",
                            "      <td>False</td>\n",
                            "      <td>{'isrc': 'GBLFP1883460'}</td>\n",
                            "      <td>{'spotify': 'https://open.spotify.com/track/2n...</td>\n",
                            "      <td>https://api.spotify.com/v1/tracks/2ntUj3hnSU7G...</td>\n",
                            "      <td>2ntUj3hnSU7GQTKA9oZWW1</td>\n",
                            "      <td>False</td>\n",
                            "      <td>True</td>\n",
                            "      <td>Los Que Se Quedan, los Que Se Van</td>\n",
                            "      <td>36</td>\n",
                            "      <td>None</td>\n",
                            "      <td>7</td>\n",
                            "      <td>track</td>\n",
                            "      <td>spotify:track:2ntUj3hnSU7GQTKA9oZWW1</td>\n",
                            "    </tr>\n",
                            "    <tr>\n",
                            "      <th>3</th>\n",
                            "      <td>{'album_type': 'album', 'artists': [{'external...</td>\n",
                            "      <td>[{'external_urls': {'spotify': 'https://open.s...</td>\n",
                            "      <td>[AR, AU, AT, BE, BO, BR, BG, CA, CL, CO, CR, C...</td>\n",
                            "      <td>1</td>\n",
                            "      <td>228986</td>\n",
                            "      <td>False</td>\n",
                            "      <td>{'isrc': 'VEB011500011'}</td>\n",
                            "      <td>{'spotify': 'https://open.spotify.com/track/1e...</td>\n",
                            "      <td>https://api.spotify.com/v1/tracks/1eEFMib4nzsU...</td>\n",
                            "      <td>1eEFMib4nzsUaeWYN0n5Ot</td>\n",
                            "      <td>False</td>\n",
                            "      <td>True</td>\n",
                            "      <td>Tiemble</td>\n",
                            "      <td>35</td>\n",
                            "      <td>None</td>\n",
                            "      <td>5</td>\n",
                            "      <td>track</td>\n",
                            "      <td>spotify:track:1eEFMib4nzsUaeWYN0n5Ot</td>\n",
                            "    </tr>\n",
                            "    <tr>\n",
                            "      <th>4</th>\n",
                            "      <td>{'album_type': 'album', 'artists': [{'external...</td>\n",
                            "      <td>[{'external_urls': {'spotify': 'https://open.s...</td>\n",
                            "      <td>[AR, AU, AT, BE, BO, BR, BG, CA, CL, CO, CR, C...</td>\n",
                            "      <td>1</td>\n",
                            "      <td>274880</td>\n",
                            "      <td>False</td>\n",
                            "      <td>{'isrc': 'VEB011500016'}</td>\n",
                            "      <td>{'spotify': 'https://open.spotify.com/track/1f...</td>\n",
                            "      <td>https://api.spotify.com/v1/tracks/1f9X3c8Bzn79...</td>\n",
                            "      <td>1f9X3c8Bzn79zkCwnZ2vay</td>\n",
                            "      <td>False</td>\n",
                            "      <td>True</td>\n",
                            "      <td>La Danza de los Esqueletos</td>\n",
                            "      <td>34</td>\n",
                            "      <td>None</td>\n",
                            "      <td>10</td>\n",
                            "      <td>track</td>\n",
                            "      <td>spotify:track:1f9X3c8Bzn79zkCwnZ2vay</td>\n",
                            "    </tr>\n",
                            "    <tr>\n",
                            "      <th>5</th>\n",
                            "      <td>{'album_type': 'album', 'artists': [{'external...</td>\n",
                            "      <td>[{'external_urls': {'spotify': 'https://open.s...</td>\n",
                            "      <td>[AR, AU, AT, BE, BO, BR, BG, CA, CL, CO, CR, C...</td>\n",
                            "      <td>1</td>\n",
                            "      <td>260160</td>\n",
                            "      <td>False</td>\n",
                            "      <td>{'isrc': 'GBMA21838866'}</td>\n",
                            "      <td>{'spotify': 'https://open.spotify.com/track/6B...</td>\n",
                            "      <td>https://api.spotify.com/v1/tracks/6B9NhbeAAvCX...</td>\n",
                            "      <td>6B9NhbeAAvCX0oqQLL4inQ</td>\n",
                            "      <td>False</td>\n",
                            "      <td>True</td>\n",
                            "      <td>Combate</td>\n",
                            "      <td>33</td>\n",
                            "      <td>None</td>\n",
                            "      <td>1</td>\n",
                            "      <td>track</td>\n",
                            "      <td>spotify:track:6B9NhbeAAvCX0oqQLL4inQ</td>\n",
                            "    </tr>\n",
                            "    <tr>\n",
                            "      <th>6</th>\n",
                            "      <td>{'album_type': 'album', 'artists': [{'external...</td>\n",
                            "      <td>[{'external_urls': {'spotify': 'https://open.s...</td>\n",
                            "      <td>[AR, AU, AT, BE, BO, BR, BG, CA, CL, CO, CR, C...</td>\n",
                            "      <td>1</td>\n",
                            "      <td>245426</td>\n",
                            "      <td>False</td>\n",
                            "      <td>{'isrc': 'GBMA21820502'}</td>\n",
                            "      <td>{'spotify': 'https://open.spotify.com/track/48...</td>\n",
                            "      <td>https://api.spotify.com/v1/tracks/48BH5RZCbrF2...</td>\n",
                            "      <td>48BH5RZCbrF2jUEyMqIgN6</td>\n",
                            "      <td>False</td>\n",
                            "      <td>True</td>\n",
                            "      <td>Tiembla De Carupano al Callao</td>\n",
                            "      <td>32</td>\n",
                            "      <td>None</td>\n",
                            "      <td>7</td>\n",
                            "      <td>track</td>\n",
                            "      <td>spotify:track:48BH5RZCbrF2jUEyMqIgN6</td>\n",
                            "    </tr>\n",
                            "    <tr>\n",
                            "      <th>7</th>\n",
                            "      <td>{'album_type': 'album', 'artists': [{'external...</td>\n",
                            "      <td>[{'external_urls': {'spotify': 'https://open.s...</td>\n",
                            "      <td>[AR, AU, AT, BE, BO, BR, BG, CA, CL, CO, CR, C...</td>\n",
                            "      <td>1</td>\n",
                            "      <td>262200</td>\n",
                            "      <td>False</td>\n",
                            "      <td>{'isrc': 'GBMA21833468'}</td>\n",
                            "      <td>{'spotify': 'https://open.spotify.com/track/4K...</td>\n",
                            "      <td>https://api.spotify.com/v1/tracks/4KrHDgpSoSFj...</td>\n",
                            "      <td>4KrHDgpSoSFj6zDj3Jzbz3</td>\n",
                            "      <td>False</td>\n",
                            "      <td>True</td>\n",
                            "      <td>Latex - En Vivo</td>\n",
                            "      <td>30</td>\n",
                            "      <td>None</td>\n",
                            "      <td>3</td>\n",
                            "      <td>track</td>\n",
                            "      <td>spotify:track:4KrHDgpSoSFj6zDj3Jzbz3</td>\n",
                            "    </tr>\n",
                            "    <tr>\n",
                            "      <th>8</th>\n",
                            "      <td>{'album_type': 'album', 'artists': [{'external...</td>\n",
                            "      <td>[{'external_urls': {'spotify': 'https://open.s...</td>\n",
                            "      <td>[AR, AU, AT, BE, BO, BR, BG, CA, CL, CO, CR, C...</td>\n",
                            "      <td>1</td>\n",
                            "      <td>219493</td>\n",
                            "      <td>False</td>\n",
                            "      <td>{'isrc': 'GBLFP2021637'}</td>\n",
                            "      <td>{'spotify': 'https://open.spotify.com/track/36...</td>\n",
                            "      <td>https://api.spotify.com/v1/tracks/36zxpUGGw0yy...</td>\n",
                            "      <td>36zxpUGGw0yyOEbIhYscWl</td>\n",
                            "      <td>False</td>\n",
                            "      <td>True</td>\n",
                            "      <td>Gorilón</td>\n",
                            "      <td>30</td>\n",
                            "      <td>None</td>\n",
                            "      <td>19</td>\n",
                            "      <td>track</td>\n",
                            "      <td>spotify:track:36zxpUGGw0yyOEbIhYscWl</td>\n",
                            "    </tr>\n",
                            "    <tr>\n",
                            "      <th>9</th>\n",
                            "      <td>{'album_type': 'album', 'artists': [{'external...</td>\n",
                            "      <td>[{'external_urls': {'spotify': 'https://open.s...</td>\n",
                            "      <td>[AR, AU, AT, BE, BO, BR, BG, CA, CL, CO, CR, C...</td>\n",
                            "      <td>1</td>\n",
                            "      <td>238360</td>\n",
                            "      <td>False</td>\n",
                            "      <td>{'isrc': 'VES019300003'}</td>\n",
                            "      <td>{'spotify': 'https://open.spotify.com/track/68...</td>\n",
                            "      <td>https://api.spotify.com/v1/tracks/68NE76Trr1bo...</td>\n",
                            "      <td>68NE76Trr1bo28gDuqUL5h</td>\n",
                            "      <td>False</td>\n",
                            "      <td>True</td>\n",
                            "      <td>Politicos Paraliticos</td>\n",
                            "      <td>28</td>\n",
                            "      <td>None</td>\n",
                            "      <td>3</td>\n",
                            "      <td>track</td>\n",
                            "      <td>spotify:track:68NE76Trr1bo28gDuqUL5h</td>\n",
                            "    </tr>\n",
                            "  </tbody>\n",
                            "</table>\n",
                            "</div>"
                        ],
                        "text/plain": [
                            "                                               album  \\\n",
                            "0  {'album_type': 'album', 'artists': [{'external...   \n",
                            "1  {'album_type': 'album', 'artists': [{'external...   \n",
                            "2  {'album_type': 'album', 'artists': [{'external...   \n",
                            "3  {'album_type': 'album', 'artists': [{'external...   \n",
                            "4  {'album_type': 'album', 'artists': [{'external...   \n",
                            "5  {'album_type': 'album', 'artists': [{'external...   \n",
                            "6  {'album_type': 'album', 'artists': [{'external...   \n",
                            "7  {'album_type': 'album', 'artists': [{'external...   \n",
                            "8  {'album_type': 'album', 'artists': [{'external...   \n",
                            "9  {'album_type': 'album', 'artists': [{'external...   \n",
                            "\n",
                            "                                             artists  \\\n",
                            "0  [{'external_urls': {'spotify': 'https://open.s...   \n",
                            "1  [{'external_urls': {'spotify': 'https://open.s...   \n",
                            "2  [{'external_urls': {'spotify': 'https://open.s...   \n",
                            "3  [{'external_urls': {'spotify': 'https://open.s...   \n",
                            "4  [{'external_urls': {'spotify': 'https://open.s...   \n",
                            "5  [{'external_urls': {'spotify': 'https://open.s...   \n",
                            "6  [{'external_urls': {'spotify': 'https://open.s...   \n",
                            "7  [{'external_urls': {'spotify': 'https://open.s...   \n",
                            "8  [{'external_urls': {'spotify': 'https://open.s...   \n",
                            "9  [{'external_urls': {'spotify': 'https://open.s...   \n",
                            "\n",
                            "                                   available_markets  disc_number  \\\n",
                            "0  [AR, AU, AT, BE, BO, BR, BG, CA, CL, CO, CR, C...            1   \n",
                            "1  [AR, AU, AT, BE, BO, BR, BG, CA, CL, CO, CR, C...            1   \n",
                            "2  [AR, AU, AT, BE, BO, BR, BG, CA, CL, CO, CR, C...            1   \n",
                            "3  [AR, AU, AT, BE, BO, BR, BG, CA, CL, CO, CR, C...            1   \n",
                            "4  [AR, AU, AT, BE, BO, BR, BG, CA, CL, CO, CR, C...            1   \n",
                            "5  [AR, AU, AT, BE, BO, BR, BG, CA, CL, CO, CR, C...            1   \n",
                            "6  [AR, AU, AT, BE, BO, BR, BG, CA, CL, CO, CR, C...            1   \n",
                            "7  [AR, AU, AT, BE, BO, BR, BG, CA, CL, CO, CR, C...            1   \n",
                            "8  [AR, AU, AT, BE, BO, BR, BG, CA, CL, CO, CR, C...            1   \n",
                            "9  [AR, AU, AT, BE, BO, BR, BG, CA, CL, CO, CR, C...            1   \n",
                            "\n",
                            "   duration_ms  explicit              external_ids  \\\n",
                            "0       252280     False  {'isrc': 'VES019700043'}   \n",
                            "1       295693     False  {'isrc': 'GBMA21833403'}   \n",
                            "2       208066     False  {'isrc': 'GBLFP1883460'}   \n",
                            "3       228986     False  {'isrc': 'VEB011500011'}   \n",
                            "4       274880     False  {'isrc': 'VEB011500016'}   \n",
                            "5       260160     False  {'isrc': 'GBMA21838866'}   \n",
                            "6       245426     False  {'isrc': 'GBMA21820502'}   \n",
                            "7       262200     False  {'isrc': 'GBMA21833468'}   \n",
                            "8       219493     False  {'isrc': 'GBLFP2021637'}   \n",
                            "9       238360     False  {'isrc': 'VES019300003'}   \n",
                            "\n",
                            "                                       external_urls  \\\n",
                            "0  {'spotify': 'https://open.spotify.com/track/6F...   \n",
                            "1  {'spotify': 'https://open.spotify.com/track/6t...   \n",
                            "2  {'spotify': 'https://open.spotify.com/track/2n...   \n",
                            "3  {'spotify': 'https://open.spotify.com/track/1e...   \n",
                            "4  {'spotify': 'https://open.spotify.com/track/1f...   \n",
                            "5  {'spotify': 'https://open.spotify.com/track/6B...   \n",
                            "6  {'spotify': 'https://open.spotify.com/track/48...   \n",
                            "7  {'spotify': 'https://open.spotify.com/track/4K...   \n",
                            "8  {'spotify': 'https://open.spotify.com/track/36...   \n",
                            "9  {'spotify': 'https://open.spotify.com/track/68...   \n",
                            "\n",
                            "                                                href                      id  \\\n",
                            "0  https://api.spotify.com/v1/tracks/6F7uqfzvcdl5...  6F7uqfzvcdl5Y42mJBVc9V   \n",
                            "1  https://api.spotify.com/v1/tracks/6tJn0JYD6QKE...  6tJn0JYD6QKE6eXbh4829b   \n",
                            "2  https://api.spotify.com/v1/tracks/2ntUj3hnSU7G...  2ntUj3hnSU7GQTKA9oZWW1   \n",
                            "3  https://api.spotify.com/v1/tracks/1eEFMib4nzsU...  1eEFMib4nzsUaeWYN0n5Ot   \n",
                            "4  https://api.spotify.com/v1/tracks/1f9X3c8Bzn79...  1f9X3c8Bzn79zkCwnZ2vay   \n",
                            "5  https://api.spotify.com/v1/tracks/6B9NhbeAAvCX...  6B9NhbeAAvCX0oqQLL4inQ   \n",
                            "6  https://api.spotify.com/v1/tracks/48BH5RZCbrF2...  48BH5RZCbrF2jUEyMqIgN6   \n",
                            "7  https://api.spotify.com/v1/tracks/4KrHDgpSoSFj...  4KrHDgpSoSFj6zDj3Jzbz3   \n",
                            "8  https://api.spotify.com/v1/tracks/36zxpUGGw0yy...  36zxpUGGw0yyOEbIhYscWl   \n",
                            "9  https://api.spotify.com/v1/tracks/68NE76Trr1bo...  68NE76Trr1bo28gDuqUL5h   \n",
                            "\n",
                            "   is_local  is_playable                               name  popularity  \\\n",
                            "0     False         True                          Allá Cayó          41   \n",
                            "1     False         True                  Tiembla - En Vivo          38   \n",
                            "2     False         True  Los Que Se Quedan, los Que Se Van          36   \n",
                            "3     False         True                            Tiemble          35   \n",
                            "4     False         True         La Danza de los Esqueletos          34   \n",
                            "5     False         True                            Combate          33   \n",
                            "6     False         True      Tiembla De Carupano al Callao          32   \n",
                            "7     False         True                    Latex - En Vivo          30   \n",
                            "8     False         True                            Gorilón          30   \n",
                            "9     False         True              Politicos Paraliticos          28   \n",
                            "\n",
                            "  preview_url  track_number   type                                   uri  \n",
                            "0        None             2  track  spotify:track:6F7uqfzvcdl5Y42mJBVc9V  \n",
                            "1        None            15  track  spotify:track:6tJn0JYD6QKE6eXbh4829b  \n",
                            "2        None             7  track  spotify:track:2ntUj3hnSU7GQTKA9oZWW1  \n",
                            "3        None             5  track  spotify:track:1eEFMib4nzsUaeWYN0n5Ot  \n",
                            "4        None            10  track  spotify:track:1f9X3c8Bzn79zkCwnZ2vay  \n",
                            "5        None             1  track  spotify:track:6B9NhbeAAvCX0oqQLL4inQ  \n",
                            "6        None             7  track  spotify:track:48BH5RZCbrF2jUEyMqIgN6  \n",
                            "7        None             3  track  spotify:track:4KrHDgpSoSFj6zDj3Jzbz3  \n",
                            "8        None            19  track  spotify:track:36zxpUGGw0yyOEbIhYscWl  \n",
                            "9        None             3  track  spotify:track:68NE76Trr1bo28gDuqUL5h  "
                        ]
                    },
                    "execution_count": 16,
                    "metadata": {},
                    "output_type": "execute_result"
                }
            ],
            "source": [
                "df = pd.DataFrame(top_10[\"tracks\"])\n",
                "df"
            ]
        },
        {
            "cell_type": "code",
            "execution_count": 18,
            "metadata": {},
            "outputs": [],
            "source": [
                "df = df [[\"name\",\"popularity\",\"duration_ms\"]]"
            ]
        },
        {
            "cell_type": "code",
            "execution_count": 19,
            "metadata": {},
            "outputs": [
                {
                    "data": {
                        "text/plain": [
                            "<seaborn.axisgrid.PairGrid at 0x72846da88d90>"
                        ]
                    },
                    "execution_count": 19,
                    "metadata": {},
                    "output_type": "execute_result"
                },
                {
                    "data": {
                        "image/png": "[encoded data removed]",
                        "text/plain": [
                            "<Figure size 500x500 with 5 Axes>"
                        ]
                    },
                    "metadata": {},
                    "output_type": "display_data"
                }
            ],
            "source": [
                "import seaborn as sns\n",
                "sns.pairplot(df,corner=True)"
            ]
        },
        {
            "cell_type": "code",
            "execution_count": 24,
            "metadata": {},
            "outputs": [
                {
                    "data": {
                        "text/plain": [
                            "<Axes: >"
                        ]
                    },
                    "execution_count": 24,
                    "metadata": {},
                    "output_type": "execute_result"
                },
                {
                    "data": {
                        "image/png": "[encoded data removed]",
                        "text/plain": [
                            "<Figure size 640x480 with 2 Axes>"
                        ]
                    },
                    "metadata": {},
                    "output_type": "display_data"
                }
            ],
            "source": [
                "sns.heatmap(df.select_dtypes('number').corr(),vmin=-1,vmax=1,annot=True)"
            ]
        },
        {
            "cell_type": "markdown",
            "metadata": {},
            "source": [
                "No hay una relación observable entre la duración de una canción y su popularidad"
            ]
        }
    ],
    "metadata": {
        "kernelspec": {
            "display_name": "Python 3",
            "language": "python",
            "name": "python3"
        },
        "language_info": {
            "codemirror_mode": {
                "name": "ipython",
                "version": 3
            },
            "file_extension": ".py",
            "mimetype": "text/x-python",
            "name": "python",
            "nbconvert_exporter": "python",
            "pygments_lexer": "ipython3",
            "version": "3.11.4"
        },
        "orig_nbformat": 4
    },
    "nbformat": 4,
    "nbformat_minor": 2
}
